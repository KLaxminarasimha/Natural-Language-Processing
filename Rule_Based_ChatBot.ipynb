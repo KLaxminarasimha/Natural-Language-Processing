{
  "nbformat": 4,
  "nbformat_minor": 0,
  "metadata": {
    "colab": {
      "provenance": [],
      "toc_visible": true
    },
    "kernelspec": {
      "name": "python3",
      "display_name": "Python 3"
    },
    "language_info": {
      "name": "python"
    }
  },
  "cells": [
    {
      "cell_type": "code",
      "execution_count": null,
      "metadata": {
        "id": "8vND1MFwdQIq"
      },
      "outputs": [],
      "source": [
        "import nltk\n",
        "import re\n",
        "from nltk.chat.util import Chat,reflections"
      ]
    },
    {
      "cell_type": "code",
      "source": [
        "nltk.download('punkt')\n",
        "nltk.download('average_perceptron_tagger')"
      ],
      "metadata": {
        "colab": {
          "base_uri": "https://localhost:8080/"
        },
        "id": "6oAIL_cRdd5f",
        "outputId": "5504bee8-7c0a-45bb-8fff-331670fdd1a3"
      },
      "execution_count": null,
      "outputs": [
        {
          "output_type": "stream",
          "name": "stderr",
          "text": [
            "[nltk_data] Downloading package punkt to /root/nltk_data...\n",
            "[nltk_data]   Unzipping tokenizers/punkt.zip.\n",
            "[nltk_data] Error loading average_perceptron_tagger: Package\n",
            "[nltk_data]     'average_perceptron_tagger' not found in index\n"
          ]
        },
        {
          "output_type": "execute_result",
          "data": {
            "text/plain": [
              "False"
            ]
          },
          "metadata": {},
          "execution_count": 3
        }
      ]
    },
    {
      "cell_type": "code",
      "source": [
        "pairs = [\n",
        "    [r\"my name is (.*)\", [\"Hello %1, how can I assist you today?\"]],\n",
        "\n",
        "    [r\"hi|hello\", [\"Hello, how can I help you?\", \"Hey there! What can I do for you?\", \"Hi! How can I assist you today?\"]],\n",
        "\n",
        "    [r\"how are you\", [\"I'm just a bot, but I'm doing great! How about you?\", \"I'm fine, thanks for asking!\"]],\n",
        "\n",
        "    [r\"what is your name\", [\"I am a chatbot, here to assist you!\", \"You can call me your virtual assistant.\"]],\n",
        "\n",
        "    [r\"bye|goodbye\", [\"Goodbye! Have a great day!\", \"Bye! Take care!\", \"See you next time!\"]],\n",
        "\n",
        "    [r\"thank you|thanks\", [\"You're welcome!\", \"No problem!\", \"Glad to help!\"]],\n",
        "\n",
        "    [r\"who created you\", [\"I was created by a developer who loves AI!\", \"A tech enthusiast brought me to life!\"]],\n",
        "\n",
        "    [r\"what can you do\", [\"I can chat with you, answer your questions, and help with various topics!\", \"I'm here to assist with whatever you need!\"]],\n",
        "\n",
        "    [r\"tell me a joke\", [\"Why don’t programmers like nature? It has too many bugs!\", \"Why do Java developers wear glasses? Because they don’t see sharp!\"]],\n",
        "\n",
        "    [r\"what is (.*)\", [\"%1 is something worth looking into!\", \"I’m not sure, but I can help you find out!\"]],\n",
        "\n",
        "    [r\"(.*) weather\", [\"I can't check the weather, but you can use a weather app!\", \"Try searching online for real-time weather updates.\"]],\n",
        "\n",
        "    [r\"(.*) your favorite color\", [\"I like all colors equally!\", \"I don’t have eyes, but I think blue sounds cool!\"]],\n",
        "\n",
        "    [r\"(.*) meaning of life\", [\"The meaning of life is whatever you make of it!\", \"42! Just kidding, it’s a deep question.\"]],\n",
        "\n",
        "    [r\"(.*) help (.*)\", [\"Sure, how can I assist with %2?\", \"I'm here to help! What do you need with %2?\"]],\n",
        "\n",
        "    [r\"(.*)\", [\"I'm not sure I understand. Can you rephrase?\", \"That's interesting! Tell me more.\"]]\n",
        "]\n"
      ],
      "metadata": {
        "id": "iKk8101QdmF4"
      },
      "execution_count": null,
      "outputs": []
    },
    {
      "cell_type": "code",
      "source": [
        "class RBChatbot:\n",
        "  def __init__(self,pairs):\n",
        "    self.chat=Chat(pairs,reflections)\n",
        "  def respond(self,user_input):\n",
        "    return self.chat.respond(user_input)\n",
        "chatbot=RBChatbot(pairs)"
      ],
      "metadata": {
        "id": "2eN7WTFJe1cj"
      },
      "execution_count": null,
      "outputs": []
    },
    {
      "cell_type": "code",
      "source": [
        "def chat_with_bot():\n",
        "  print(\"Hi, I'm your chatbot. Type 'quit' to exit.\")\n",
        "  while True:\n",
        "    user_input = input(\"You: \")\n",
        "    if user_input.lower() == 'quit':\n",
        "      print(\"Chatbot: Goodbye!\")\n",
        "      break\n",
        "    response = chatbot.respond(user_input)\n",
        "    print(\"Chatbot:\", response)\n",
        "chat_with_bot()"
      ],
      "metadata": {
        "colab": {
          "base_uri": "https://localhost:8080/"
        },
        "id": "3sNRNColJw_V",
        "outputId": "65f6a7ce-51bf-49d4-98d3-cf5308ef904d"
      },
      "execution_count": null,
      "outputs": [
        {
          "output_type": "stream",
          "name": "stdout",
          "text": [
            "Hi, I'm your chatbot. Type 'quit' to exit.\n",
            "You: hi\n",
            "Chatbot: Hi! How can I assist you today?\n",
            "You: what is my name\n",
            "Chatbot: your name is something worth looking into!\n",
            "You: lucky\n",
            "Chatbot: That's interesting! Tell me more.\n",
            "You: my name is lucky\n",
            "Chatbot: Hello lucky, how can I assist you today?\n",
            "You: addition of 5 and 2\n",
            "Chatbot: I'm not sure I understand. Can you rephrase?\n",
            "You: 5+2\n",
            "Chatbot: That's interesting! Tell me more.\n",
            "You: quit\n",
            "Chatbot: Goodbye!\n"
          ]
        }
      ]
    },
    {
      "cell_type": "code",
      "source": [],
      "metadata": {
        "id": "1MDv9UfRL3Zz"
      },
      "execution_count": null,
      "outputs": []
    }
  ]
}