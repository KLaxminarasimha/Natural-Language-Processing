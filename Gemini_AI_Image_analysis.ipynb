{
  "nbformat": 4,
  "nbformat_minor": 0,
  "metadata": {
    "colab": {
      "provenance": []
    },
    "kernelspec": {
      "name": "python3",
      "display_name": "Python 3"
    },
    "language_info": {
      "name": "python"
    }
  },
  "cells": [
    {
      "cell_type": "code",
      "execution_count": 5,
      "metadata": {
        "id": "b1ya-wBJXHY0"
      },
      "outputs": [],
      "source": [
        "import google.generativeai as genai\n",
        "from google.colab import userdata\n",
        "GOOGLE_API_KEY=userdata.get('GOOGLE_API_KEY')\n",
        "genai.configure(api_key=GOOGLE_API_KEY)"
      ]
    },
    {
      "cell_type": "code",
      "source": [
        "import pathlib\n",
        "import textwrap\n",
        "from IPython.display import Markdown, display\n",
        "def to_markdown(text):\n",
        "  text=text.replace('*',' *')\n",
        "  return Markdown(textwrap.indent(text,'> ',predicate=lambda _:True))"
      ],
      "metadata": {
        "id": "hE3RzzfdX_Tq"
      },
      "execution_count": 6,
      "outputs": []
    },
    {
      "cell_type": "code",
      "source": [
        "import PIL.Image\n",
        "img = PIL.Image.open('Image.jpg')\n",
        "img\n",
        "model=genai.GenerativeModel('gemini-1.5-flash')\n",
        "response=model.generate_content([\"Write a short,engaging blog post based on this picture.It should include a description of the meal in the photo and talk about my journey meal prepping.\",img],stream=True)\n",
        "response.resolve()"
      ],
      "metadata": {
        "id": "9Asb2aSaYeZU"
      },
      "execution_count": 7,
      "outputs": []
    },
    {
      "cell_type": "code",
      "source": [
        "to_markdown(response.text)"
      ],
      "metadata": {
        "colab": {
          "base_uri": "https://localhost:8080/",
          "height": 542
        },
        "id": "c0tZLJ0Wajvt",
        "outputId": "3dc6f123-2238-41e6-aa30-748d15bb3dea"
      },
      "execution_count": 8,
      "outputs": [
        {
          "output_type": "execute_result",
          "data": {
            "text/plain": [
              "<IPython.core.display.Markdown object>"
            ],
            "text/markdown": "> ## My Meal Prep Journey: From Chaos to Colorful Containers!\n> \n> Let's be honest, weekday dinners used to be a stressful scramble.  Between work, errands, and life in general, cooking a healthy, satisfying meal felt like climbing Mount Everest.  That's where my meal prep journey began.  And honestly? It's been a game-changer.\n> \n> This picture shows the fruits (or should I say,  *veggies *?) of my labor!  These are two containers of my latest creation:  teriyaki chicken with fluffy white rice, vibrant red and orange carrots, and a healthy helping of broccoli.  It’s a complete, balanced meal ready in minutes, perfect for those hectic weeknights.\n> \n> \n> My journey wasn't a smooth one, though. Early attempts were haphazard and often ended in a fridge full of sad, wilted vegetables. I learned a few key lessons along the way:\n> \n>  *  * *Plan Ahead: * *  Knowing what I'll be eating for the week is essential.  I now spend Sundays planning my meals and creating a grocery list.\n>  *  * *Prep Smart: * *  Chopping veggies and marinating proteins on the weekend saves a ton of time during the week.\n>  *  * *Invest in Containers: * *  Good quality, airtight containers are a must for preserving freshness and preventing leaks. (As you can see, I'm a fan of these clear ones!)\n> \n> Meal prepping isn't just about saving time; it's about making healthy eating easier and more enjoyable.  It allows me to control portion sizes and ensure I'm getting all the nutrients I need, without the added stress.  Plus, opening the fridge to a colorful array of ready-to-eat meals is undeniably satisfying! So ditch the takeout menus and give meal prepping a try. You might just surprise yourself.\n"
          },
          "metadata": {},
          "execution_count": 8
        }
      ]
    },
    {
      "cell_type": "code",
      "source": [
        "response=model.generate_content([\"Generate an accurate caption for this image.\",img])\n",
        "print(response.text)"
      ],
      "metadata": {
        "colab": {
          "base_uri": "https://localhost:8080/",
          "height": 401
        },
        "id": "ftmqqs8ua4Wq",
        "outputId": "a9e2055f-e1d4-404d-fb0e-20e755133105"
      },
      "execution_count": 9,
      "outputs": [
        {
          "output_type": "stream",
          "name": "stdout",
          "text": [
            "Here are a few caption options for the image:\n",
            "\n",
            "**Option 1 (Simple & Descriptive):**\n",
            "\n",
            "> Healthy and delicious meal prep!  Chicken and broccoli with rice.\n",
            "\n",
            "**Option 2 (More Engaging):**\n",
            "\n",
            "> Lunch goals!  These chicken and veggie bowls are packed with flavor and ready to go.  #mealprep #healthyfood #lunchideas #cleaneating\n",
            "\n",
            "**Option 3 (Focus on Convenience):**\n",
            "\n",
            "> Easy weeknight dinners solved.  These prepped containers make healthy eating a breeze. #mealprepsunday #healthymeals #convenientfood\n",
            "\n",
            "**Option 4 (Slightly More Detailed):**\n",
            "\n",
            "> Teriyaki chicken and broccoli over rice.  The perfect balance of protein and vegetables for a satisfying and healthy meal.  #healthyrecipe #teriyaki #chickenandbroccoli\n",
            "\n",
            "\n",
            "Choose the caption that best suits your needs and intended audience.\n",
            "\n"
          ]
        }
      ]
    },
    {
      "cell_type": "code",
      "source": [
        "import PIL.Image\n",
        "img = PIL.Image.open('girl.jpg')\n",
        "img\n",
        "response=model.generate_content([\"Describe this image in detail.\",img])\n",
        "print(response.text)"
      ],
      "metadata": {
        "colab": {
          "base_uri": "https://localhost:8080/",
          "height": 263
        },
        "id": "zLNkbtj9eObG",
        "outputId": "b46f2424-0e46-40ca-d31c-c46e22b68454"
      },
      "execution_count": 10,
      "outputs": [
        {
          "output_type": "stream",
          "name": "stdout",
          "text": [
            "Here's a description of the image:\n",
            "\n",
            "Close-up view of a woman with shoulder-length, curly brown hair. \n",
            "\n",
            "\n",
            "She's wearing a teal, three-quarter sleeve tunic or kurta with a subtle gold print of small, floral or paisley-like patterns. The neckline is a simple, slightly open collar. \n",
            "\n",
            "\n",
            "The woman is smiling warmly and gesturing with her right index finger, as if pointing or indicating something off-camera to the viewer's left. Her left arm is crossed over her body, resting on her right arm. Her arms appear full and toned. \n",
            "\n",
            "\n",
            "She has light to medium brown skin and appears to be of South Asian descent. Her makeup is natural and subtle. The background is a plain, bright white, which keeps the focus firmly on the woman. The overall impression is one of friendliness and approachability.\n",
            "\n"
          ]
        }
      ]
    },
    {
      "cell_type": "code",
      "source": [
        "response=model.generate_content([\"What emotions can you detect in this image?.\",img])\n",
        "print(response.text)"
      ],
      "metadata": {
        "colab": {
          "base_uri": "https://localhost:8080/",
          "height": 245
        },
        "id": "2JsmYh7jgpK3",
        "outputId": "f7c9a1a9-2fdd-4d6b-bb9a-1a0c43318b12"
      },
      "execution_count": 11,
      "outputs": [
        {
          "output_type": "stream",
          "name": "stdout",
          "text": [
            "Here's an interpretation of the emotions conveyed in the image:\n",
            "\n",
            "The woman in the image appears to be expressing a blend of emotions, primarily:\n",
            "\n",
            "* **Friendliness and Approachability:** Her smile is warm and genuine, and her gesture of pointing with an open hand suggests an inviting and approachable demeanor.  She doesn't appear tense or guarded.\n",
            "\n",
            "* **Helpfulness or Guidance:** The pointing gesture strongly implies that she is offering information, direction, or assistance.  She seems eager to share something.\n",
            "\n",
            "* **Confidence:** Her posture is relaxed yet upright, and her direct gaze towards the viewer indicates self-assurance.\n",
            "\n",
            "It's less likely that she's expressing negative emotions like anger, sadness, or fear.  The overall impression is one of positive and helpful engagement.\n",
            "\n"
          ]
        }
      ]
    },
    {
      "cell_type": "code",
      "source": [
        "import PIL.Image\n",
        "img = PIL.Image.open('img.jpg')\n",
        "img\n",
        "response=model.generate_content([\"Extract and read the text from this image.\",img])\n",
        "print(response.text)"
      ],
      "metadata": {
        "colab": {
          "base_uri": "https://localhost:8080/",
          "height": 86
        },
        "id": "r_6e9B04h0RO",
        "outputId": "5d4f6d13-76ad-43b8-e250-6e92046a52d1"
      },
      "execution_count": 12,
      "outputs": [
        {
          "output_type": "stream",
          "name": "stdout",
          "text": [
            "FAILURE is not the\n",
            "opposite of success\n",
            "it's PART OF\n",
            "SUCCESS\n"
          ]
        }
      ]
    },
    {
      "cell_type": "code",
      "source": [
        "image_path=\"amazon.jpg\"\n",
        "image=PIL.Image.open(image_path)\n",
        "response=model.generate_content([\"Identify the brand or company associated with this logo.\",image])\n",
        "print(response.text)"
      ],
      "metadata": {
        "id": "qYtila8BkLUa",
        "colab": {
          "base_uri": "https://localhost:8080/",
          "height": 52
        },
        "outputId": "0796870a-503a-4a78-99e2-87b92db0e0b7"
      },
      "execution_count": 21,
      "outputs": [
        {
          "output_type": "stream",
          "name": "stdout",
          "text": [
            "That's the logo for **Amazon**.\n",
            "\n"
          ]
        }
      ]
    },
    {
      "cell_type": "code",
      "source": [
        "img_path = ('heda.jpg')\n",
        "image=PIL.Image.open(img_path)\n",
        "model=genai.GenerativeModel('gemini-1.5-flash')\n",
        "response=model.generate_content([\"What product is shown in this image?\",image])\n",
        "print(response.text)"
      ],
      "metadata": {
        "id": "mKbgX8uXNJhx",
        "outputId": "f1698773-754c-497a-dbd7-fc7879128c0d",
        "colab": {
          "base_uri": "https://localhost:8080/",
          "height": 34
        }
      },
      "execution_count": 23,
      "outputs": [
        {
          "output_type": "stream",
          "name": "stdout",
          "text": [
            "That's a pair of black over-ear headphones.\n"
          ]
        }
      ]
    },
    {
      "cell_type": "code",
      "source": [
        "response=model.generate_content([\"Suggest the similar products to this image?\",image])\n",
        "print(response.text)"
      ],
      "metadata": {
        "id": "0Fnu6jwTODja",
        "outputId": "a164e9b0-602f-4b20-e5be-c3751364f86f",
        "colab": {
          "base_uri": "https://localhost:8080/",
          "height": 506
        }
      },
      "execution_count": 24,
      "outputs": [
        {
          "output_type": "stream",
          "name": "stdout",
          "text": [
            "Here are some similar products to the image provided, which appears to be a pair of over-ear, closed-back headphones:\n",
            "\n",
            "**Key Features to Look For:**\n",
            "\n",
            "* **Over-ear design:**  The headphones completely cover the ears.\n",
            "* **Closed-back design:** The earcups are enclosed, meaning less sound leaks out and less ambient noise leaks in.  This is crucial if you want good noise isolation.\n",
            "* **Black color:** The image showcases black headphones.  Many headphones are available in black.\n",
            "* **Similar build/style:** The image shows a sleek, somewhat minimalist design. Look for headphones that have a similar aesthetic, avoiding overly bulky or brightly colored options.\n",
            "\n",
            "\n",
            "**Brands and Model Types to Consider (Specific models will change based on availability):**\n",
            "\n",
            "* **Sony WH-CH710N:** Often found at a mid-range price point and offer good sound quality and noise cancellation.\n",
            "* **Audio-Technica ATH-M20x:**  More of a studio-monitor style, known for accurate sound reproduction and a durable build. They are closed back but don't feature noise cancellation.\n",
            "* **JBL Tune 760NC:** Often available at budget-friendly price points and offer good value.\n",
            "* **AKG K361:** Studio-style headphones, offering a more neutral sound signature.\n",
            "* **Sennheiser HD 280 Pro:** Another popular studio-style headphone, prized for accuracy and durability.\n",
            "\n",
            "\n",
            "**To find more similar options, I recommend:**\n",
            "\n",
            "1. **Searching online retailers:** Use search terms like \"black over-ear closed-back headphones,\" \"noise-canceling headphones black,\" or \"studio headphones black\" on sites like Amazon, Best Buy, or your preferred electronics retailer.\n",
            "2. **Checking headphone review sites:** Sites like Rtings.com, Headphone Review, and CNET provide detailed reviews and comparisons of various headphone models.  Use these to filter by the features mentioned above.\n",
            "\n",
            "\n",
            "Remember to check customer reviews before making a purchase to get an idea of the real-world performance and comfort of any headphone you're considering.\n",
            "\n"
          ]
        }
      ]
    },
    {
      "cell_type": "code",
      "source": [
        "img_path = ('invoice.jpg')\n",
        "image=PIL.Image.open(img_path)\n",
        "\n",
        "response=model.generate_content([\"Extract the price from this image?\",image])\n",
        "print(response.text)"
      ],
      "metadata": {
        "id": "_bcmLwpFQOEU",
        "outputId": "e45a85f2-ccf3-4b11-c55f-4e47af904fbf",
        "colab": {
          "base_uri": "https://localhost:8080/",
          "height": 54
        }
      },
      "execution_count": 29,
      "outputs": [
        {
          "output_type": "stream",
          "name": "stdout",
          "text": [
            "The price of each item is $10.00.  The sub-total is $100.00, and the grand total is also $100.00.\n"
          ]
        }
      ]
    },
    {
      "cell_type": "code",
      "source": [
        "response=model.generate_content([\"Extract the price,currency and any discounts  from this image?\",image])\n",
        "print(response.text)"
      ],
      "metadata": {
        "id": "CnzHqRezSet-",
        "outputId": "a3b2209b-d8e1-4f8c-d158-8f1544eec43f",
        "colab": {
          "base_uri": "https://localhost:8080/",
          "height": 104
        }
      },
      "execution_count": 27,
      "outputs": [
        {
          "output_type": "stream",
          "name": "stdout",
          "text": [
            "Here's the extracted information from the image:\n",
            "\n",
            "* **Price:** $10.00 (per item)\n",
            "* **Currency:** USD ($)\n",
            "* **Discounts:** No discounts are applied.  There is a 10% tax added.\n"
          ]
        }
      ]
    },
    {
      "cell_type": "code",
      "source": [
        "img_path = ('bicycle.jpg')\n",
        "image=PIL.Image.open(img_path)\n",
        "\n",
        "response=model.generate_content([\"Identify all objects present in this image?\",image])\n",
        "print(response.text)"
      ],
      "metadata": {
        "id": "ZW78AFCnSvKd",
        "outputId": "e22c679e-9952-43e1-b309-a3e5c3ef988b",
        "colab": {
          "base_uri": "https://localhost:8080/",
          "height": 176
        }
      },
      "execution_count": 30,
      "outputs": [
        {
          "output_type": "stream",
          "name": "stdout",
          "text": [
            "Here are the objects present in the image:\n",
            "\n",
            "* **Two bicycles:** One is predominantly yellow and black, the other is white.\n",
            "* **Two men:** Riding the bicycles. One is wearing a blue shirt and camouflage shorts; the other is wearing a grey shirt, jeans, and a red cap.\n",
            "* **A motorcycle:** Parked on the left side of the image.\n",
            "* **A building:** With a roll-up door, windows, and a person visible inside through a window.\n",
            "* **Street:** Wet from rain, with some vegetation growing alongside.\n",
            "* **Chairs:** Two chairs are visible through the building's window.\n"
          ]
        }
      ]
    },
    {
      "cell_type": "code",
      "source": [
        "img_path = ('items.jpg')\n",
        "image=PIL.Image.open(img_path)\n",
        "\n",
        "response=model.generate_content([\"List all objects in this image and count how many of each are present?\",image])\n",
        "print(response.text)"
      ],
      "metadata": {
        "id": "ONR9S4wWTPJd",
        "outputId": "03f70dd0-620e-4dfb-b0ba-7809c76605a6",
        "colab": {
          "base_uri": "https://localhost:8080/",
          "height": 486
        }
      },
      "execution_count": 31,
      "outputs": [
        {
          "output_type": "stream",
          "name": "stdout",
          "text": [
            "Here's a count of the objects in the image:\n",
            "\n",
            "**Countables:**\n",
            "\n",
            "* Eggs: 3\n",
            "* Banana: 1\n",
            "* Olives: 2\n",
            "* Fries: 1 (serving)\n",
            "* Burger: 1\n",
            "* Hot dog: 1\n",
            "* Apple: 1\n",
            "* Carrots: 2\n",
            "* Tomatoes: 3\n",
            "* Watermelon: 1\n",
            "\n",
            "**Uncountables:**\n",
            "\n",
            "* Milk: 1 (bottle)\n",
            "* Flour: 1 (bag)\n",
            "* Salt: 1 (container)\n",
            "* Sugar: 1 (bowl)\n",
            "* Jam: 1 (jar)\n",
            "* Meat: 2 (slices)\n",
            "* Rice: 1 (bowl)\n",
            "* Honey: 1 (jar)\n",
            "* Tea: 1 (cup)\n",
            "* Cheese: 1 (slice)\n"
          ]
        }
      ]
    },
    {
      "cell_type": "code",
      "source": [],
      "metadata": {
        "id": "cZSGlu7mUXfH"
      },
      "execution_count": null,
      "outputs": []
    }
  ]
}