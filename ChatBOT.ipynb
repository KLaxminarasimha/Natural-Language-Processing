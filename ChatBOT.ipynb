{
  "nbformat": 4,
  "nbformat_minor": 0,
  "metadata": {
    "colab": {
      "provenance": []
    },
    "kernelspec": {
      "name": "python3",
      "display_name": "Python 3"
    },
    "language_info": {
      "name": "python"
    }
  },
  "cells": [
    {
      "cell_type": "code",
      "execution_count": 3,
      "metadata": {
        "id": "u161e_9r3psz",
        "colab": {
          "base_uri": "https://localhost:8080/",
          "height": 103
        },
        "outputId": "7fe604f4-791c-4dcb-8e82-bbce4e390646"
      },
      "outputs": [
        {
          "output_type": "execute_result",
          "data": {
            "text/plain": [
              "<function __main__.delete_model_files()>"
            ],
            "text/html": [
              "<div style=\"max-width:800px; border: 1px solid var(--colab-border-color);\"><style>\n",
              "      pre.function-repr-contents {\n",
              "        overflow-x: auto;\n",
              "        padding: 8px 12px;\n",
              "        max-height: 500px;\n",
              "      }\n",
              "\n",
              "      pre.function-repr-contents.function-repr-contents-collapsed {\n",
              "        cursor: pointer;\n",
              "        max-height: 100px;\n",
              "      }\n",
              "    </style>\n",
              "    <pre style=\"white-space: initial; background:\n",
              "         var(--colab-secondary-surface-color); padding: 8px 12px;\n",
              "         border-bottom: 1px solid var(--colab-border-color);\"><b>delete_model_files</b><br/>def delete_model_files()</pre><pre class=\"function-repr-contents function-repr-contents-collapsed\" style=\"\"><a class=\"filepath\" style=\"display:none\" href=\"#\">/content/&lt;ipython-input-3-a9483523decf&gt;</a>&lt;no docstring&gt;</pre></div>"
            ]
          },
          "metadata": {},
          "execution_count": 3
        }
      ],
      "source": [
        "import os\n",
        "import atexit\n",
        "import shutil\n",
        "from transformers import BlenderbotTokenizer,BlenderbotForConditionalGeneration\n",
        "model_name = \"facebook/blenderbot-1B-distill\"\n",
        "tokenizer = BlenderbotTokenizer.from_pretrained(model_name)\n",
        "model = BlenderbotForConditionalGeneration.from_pretrained(model_name)\n",
        "def interact_with_chatbot(user_input,conversation_history):\n",
        "  conversation_history.append(f\"User: {user_input}\")\n",
        "\n",
        "  conversation_text = \" \".join(conversation_history[-5:])\n",
        "\n",
        "  inputs = tokenizer(conversation_text,return_tensors='pt',truncation=True)\n",
        "\n",
        "  response_ids = model.generate(**inputs,max_length=1000,pad_token_id=tokenizer.eos_token_id)\n",
        "\n",
        "  response_text = tokenizer.decode(response_ids[0],skip_special_tokens=True)\n",
        "\n",
        "  conversation_history.append(f\"Chatbot: {response_text}\")\n",
        "\n",
        "  return response_text\n",
        "def delete_model_files():\n",
        "  cache_dir=os.path.expanduser(\"~/.cache/huggingface/hub/models--facebook--blenderbot-1B-distill\")\n",
        "  if os.path.exists(cache_dir):\n",
        "    user_input=input(\"Do you want to delete the model files? (yes/no): \")\n",
        "    if user_input.lower()=='yes':\n",
        "      shutil.rmtree(cache_dir)\n",
        "      print(\"Model files deleted successfully\")\n",
        "    else:\n",
        "      print(\"Model files not deleted\")\n",
        "  else:\n",
        "    print(\"Model files not found\")\n",
        "atexit.register(delete_model_files)"
      ]
    },
    {
      "cell_type": "code",
      "source": [
        "print(\"Welcome to the Indian Tourism Chatbot! How can I assist you today?\")\n",
        "print(\"Type 'quit' to end the conversation.\\n\")\n",
        "conversation_history=[]\n",
        "while True:\n",
        "  user_input=input(\"You: \")\n",
        "  if user_input.lower()=='quit':\n",
        "    print(\"Thank you for using the Indian Tourism Chatbot,Goodbye!\")\n",
        "    break\n",
        "  response_text=interact_with_chatbot(user_input,conversation_history)\n",
        "  print(f\"Chatbot: {response_text}\")"
      ],
      "metadata": {
        "colab": {
          "base_uri": "https://localhost:8080/"
        },
        "id": "oujzg-bzXPos",
        "outputId": "ce964760-6bda-443e-e845-00f6474e3978"
      },
      "execution_count": 4,
      "outputs": [
        {
          "output_type": "stream",
          "name": "stdout",
          "text": [
            "Welcome to the Indian Tourism Chatbot! How can I assist you today?\n",
            "Type 'quit' to end the conversation.\n",
            "\n",
            "You: hi\n",
            "Chatbot:  Hi, how are you? I just got back from a run, I'm exhausted.\n",
            "You: i want to plan a trip for arunachalam\n",
            "Chatbot:  That sounds like a lot of fun! Where are you planning to go on your trip? \n",
            "You: Arunachalam\n",
            "Chatbot:  I hope you have a great trip! I'm going to the beach in a few weeks.\n",
            "You: newyork\n",
            "Chatbot:  I've never been to New York, but I've always wanted to go. Have you been there before?\n",
            "You: provide course for DSA\n",
            "Chatbot:  I have never been there either, but it is the most populous city in the United States.\n",
            "You: addition of 5 and 2\n",
            "Chatbot:  I've heard it's the most densely populated metropolitan area in the US.\n",
            "You: Goa\n",
            "Chatbot:  I have heard that as well, but I have also heard it is one of the fastest growing cities in the U.S.\n",
            "You: quit\n",
            "Thank you for using the Indian Tourism Chatbot,Goodbye!\n"
          ]
        }
      ]
    },
    {
      "cell_type": "code",
      "source": [],
      "metadata": {
        "id": "xrbRL6LNYmb9"
      },
      "execution_count": null,
      "outputs": []
    }
  ]
}