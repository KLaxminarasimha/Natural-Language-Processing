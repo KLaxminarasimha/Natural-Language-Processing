{
 "cells": [
  {
   "cell_type": "markdown",
   "id": "baccccca",
   "metadata": {},
   "source": [
    "# 1. Write a Python program to calculate the frequency of each word in a given text. Print the words and their corresponding counts"
   ]
  },
  {
   "cell_type": "code",
   "execution_count": 1,
   "id": "8acd6333",
   "metadata": {},
   "outputs": [
    {
     "name": "stdout",
     "output_type": "stream",
     "text": [
      "the: 3\n",
      "quick: 1\n",
      "brown: 1\n",
      "fox: 1\n",
      "jumps: 1\n",
      "over: 1\n",
      "lazy: 1\n",
      "dog: 2\n"
     ]
    }
   ],
   "source": [
    "def calculate_word_frequency(text):\n",
    "    words = text.split()\n",
    "    word_frequency = {}\n",
    "    for word in words:\n",
    "        if word in word_frequency:\n",
    "            word_frequency[word] += 1\n",
    "        else: \n",
    "            word_frequency[word] = 1\n",
    "        \n",
    "    for word, count in word_frequency.items():\n",
    "        print(f'{word}: {count}')\n",
    "        \n",
    "text = \"the quick brown fox jumps over the lazy dog the dog\"\n",
    "calculate_word_frequency(text)"
   ]
  },
  {
   "cell_type": "code",
   "execution_count": null,
   "id": "0c7a5370",
   "metadata": {},
   "outputs": [],
   "source": []
  }
 ],
 "metadata": {
  "kernelspec": {
   "display_name": "Python 3 (ipykernel)",
   "language": "python",
   "name": "python3"
  },
  "language_info": {
   "codemirror_mode": {
    "name": "ipython",
    "version": 3
   },
   "file_extension": ".py",
   "mimetype": "text/x-python",
   "name": "python",
   "nbconvert_exporter": "python",
   "pygments_lexer": "ipython3",
   "version": "3.9.12"
  }
 },
 "nbformat": 4,
 "nbformat_minor": 5
}
