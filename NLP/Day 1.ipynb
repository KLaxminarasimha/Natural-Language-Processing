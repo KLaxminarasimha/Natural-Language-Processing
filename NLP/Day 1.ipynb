{
 "cells": [
  {
   "cell_type": "markdown",
   "id": "e335e5e8",
   "metadata": {},
   "source": [
    "# 1. Jupyter Notebook and Data Types\n",
    "Write a program in Jupyter Notebook to declare variables of different data types (integer, float, string, and boolean). Print each variable and its type.\n"
   ]
  },
  {
   "cell_type": "code",
   "execution_count": 1,
   "id": "035b36c0",
   "metadata": {},
   "outputs": [
    {
     "name": "stdout",
     "output_type": "stream",
     "text": [
      "Integer variable: 10  Type: <class 'int'>\n",
      "Float variable: 3.14  Type: <class 'float'>\n",
      "String variable: Hello, World!  Type: <class 'str'>\n",
      "Boolean variable: True  Type: <class 'bool'>\n"
     ]
    }
   ],
   "source": [
    "#!/usr/bin/env python\n",
    "# coding: utf-8\n",
    "\n",
    "# In[2]:\n",
    "\n",
    "\n",
    "integer_var = 10\n",
    "float_var = 3.14\n",
    "string_var = \"Hello, World!\"\n",
    "boolean_var = True\n",
    "\n",
    "print(\"Integer variable:\", integer_var, \" Type:\", type(integer_var))\n",
    "print(\"Float variable:\", float_var, \" Type:\", type(float_var))\n",
    "print(\"String variable:\", string_var, \" Type:\", type(string_var))\n",
    "print(\"Boolean variable:\", boolean_var, \" Type:\", type(boolean_var))"
   ]
  },
  {
   "cell_type": "code",
   "execution_count": null,
   "id": "272134d8",
   "metadata": {},
   "outputs": [],
   "source": []
  }
 ],
 "metadata": {
  "kernelspec": {
   "display_name": "Python 3 (ipykernel)",
   "language": "python",
   "name": "python3"
  },
  "language_info": {
   "codemirror_mode": {
    "name": "ipython",
    "version": 3
   },
   "file_extension": ".py",
   "mimetype": "text/x-python",
   "name": "python",
   "nbconvert_exporter": "python",
   "pygments_lexer": "ipython3",
   "version": "3.9.12"
  }
 },
 "nbformat": 4,
 "nbformat_minor": 5
}
