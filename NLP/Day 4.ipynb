{
 "cells": [
  {
   "cell_type": "markdown",
   "id": "08918199",
   "metadata": {},
   "source": [
    "# Write a Python program to calculate the sum of all even numbers between 1 and a given positive integer n"
   ]
  },
  {
   "cell_type": "code",
   "execution_count": 1,
   "id": "c5d50fcb",
   "metadata": {},
   "outputs": [
    {
     "name": "stdout",
     "output_type": "stream",
     "text": [
      "Enter a positive integer: 10\n",
      "The sum of all even numbers between 1 and 10 is 30\n"
     ]
    }
   ],
   "source": [
    "#!/usr/bin/env python\n",
    "# coding: utf-8\n",
    "\n",
    "# In[1]:\n",
    "\n",
    "\n",
    "n = int(input(\"Enter a positive integer: \"))\n",
    "\n",
    "sum_even = sum(range(2, n + 1, 2))\n",
    "\n",
    "print(f\"The sum of all even numbers between 1 and {n} is {sum_even}\")"
   ]
  },
  {
   "cell_type": "code",
   "execution_count": null,
   "id": "0e177027",
   "metadata": {},
   "outputs": [],
   "source": []
  }
 ],
 "metadata": {
  "kernelspec": {
   "display_name": "Python 3 (ipykernel)",
   "language": "python",
   "name": "python3"
  },
  "language_info": {
   "codemirror_mode": {
    "name": "ipython",
    "version": 3
   },
   "file_extension": ".py",
   "mimetype": "text/x-python",
   "name": "python",
   "nbconvert_exporter": "python",
   "pygments_lexer": "ipython3",
   "version": "3.9.12"
  }
 },
 "nbformat": 4,
 "nbformat_minor": 5
}
